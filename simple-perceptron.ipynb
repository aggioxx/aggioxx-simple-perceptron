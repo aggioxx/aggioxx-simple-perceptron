{
 "cells": [
  {
   "metadata": {},
   "cell_type": "markdown",
   "source": "",
   "id": "8a77807f92f26ee"
  },
  {
   "metadata": {
    "ExecuteTime": {
     "end_time": "2024-08-02T21:56:31.792612Z",
     "start_time": "2024-08-02T21:56:31.695999Z"
    }
   },
   "cell_type": "code",
   "source": "import numpy as np",
   "id": "fbc121e30a2defb3",
   "outputs": [],
   "execution_count": 3
  },
  {
   "metadata": {
    "ExecuteTime": {
     "end_time": "2024-08-02T22:12:24.443986Z",
     "start_time": "2024-08-02T22:12:24.438512Z"
    }
   },
   "cell_type": "code",
   "source": [
    "import numpy as np\n",
    "\n",
    "class myPerceptron:\n",
    "    def __init__(self, xfeatures, learning_rate=0.01):\n",
    "        self.weights = np.zeros(xfeatures)\n",
    "        self.bias = 0\n",
    "        self.learning_rate = learning_rate\n",
    "\n",
    "    def forward(self, x):\n",
    "        linear = np.dot(x, self.weights) + self.bias\n",
    "        prediction = np.where(linear > 0., 1, 0)\n",
    "        return prediction\n",
    "\n",
    "    def backward(self, x, y):\n",
    "        prediction = self.forward(x)\n",
    "        error = y - prediction\n",
    "        return error\n",
    "\n",
    "    @staticmethod\n",
    "    def generate_data(num_samples, num_features=2):\n",
    "        X = np.random.randn(num_samples, num_features)\n",
    "        true_weights = np.random.randn(num_features)\n",
    "        y = np.where(np.dot(X, true_weights) > 0, 1, 0)\n",
    "        return X, y\n",
    "\n",
    "    @staticmethod\n",
    "    def normalize_data(X):\n",
    "        return (X - np.mean(X, axis=0)) / np.std(X, axis=0)\n",
    "\n",
    "    def train_perceptron(self, x_train, y_train, epochs):\n",
    "        for epoch in range(epochs):\n",
    "            # Shuffle the data at the start of each epoch\n",
    "            indices = np.arange(x_train.shape[0])\n",
    "            np.random.shuffle(indices)\n",
    "            x_train = x_train[indices]\n",
    "            y_train = y_train[indices]\n",
    "            for x, y in zip(x_train, y_train):\n",
    "                error = self.backward(x, y)\n",
    "                self.weights += self.learning_rate * error * x\n",
    "                self.bias += self.learning_rate * error\n",
    "\n",
    "    def evaluate_perceptron(self, X_test, y_test):\n",
    "        predictions = self.forward(X_test)\n",
    "        accuracy = np.mean(predictions == y_test)\n",
    "        return accuracy\n"
   ],
   "id": "5fc09ca3de9d4803",
   "outputs": [],
   "execution_count": 54
  },
  {
   "metadata": {},
   "cell_type": "markdown",
   "source": "In the next code cell, the data to train and evaluate the model will be randomly generated with np.random, using the simple 70/30 split approach to train and test the model",
   "id": "52b70a4edfc4c16f"
  },
  {
   "metadata": {
    "ExecuteTime": {
     "end_time": "2024-08-02T22:12:27.761347Z",
     "start_time": "2024-08-02T22:12:27.712094Z"
    }
   },
   "cell_type": "code",
   "source": [
    "# Set a random seed for reproducibility\n",
    "np.random.seed(42)\n",
    "\n",
    "# Generate and normalize training data with 2 features\n",
    "X, y = myPerceptron.generate_data(100, 2)\n",
    "X = myPerceptron.normalize_data(X)\n",
    "\n",
    "# Split data into training and testing sets (70/30 split)\n",
    "split_ratio = 0.7\n",
    "split_index = int(split_ratio * X.shape[0])\n",
    "X_train, X_test = X[:split_index], X[split_index:]\n",
    "y_train, y_test = y[:split_index], y[split_index:]\n",
    "\n",
    "# Initialize and train the perceptron with 2 features\n",
    "perceptron = myPerceptron(xfeatures=2, learning_rate=0.01)  # Experiment with learning rate\n",
    "perceptron.train_perceptron(X_train, y_train, epochs=100)  # Increase epochs"
   ],
   "id": "a857f7302d40a39c",
   "outputs": [],
   "execution_count": 55
  },
  {
   "metadata": {},
   "cell_type": "markdown",
   "source": "At the end, i will evaluate the accuracy of the model ",
   "id": "2c3e257cbc2e335b"
  },
  {
   "metadata": {
    "ExecuteTime": {
     "end_time": "2024-08-02T22:12:29.759603Z",
     "start_time": "2024-08-02T22:12:29.754990Z"
    }
   },
   "cell_type": "code",
   "source": [
    "# Evaluate the perceptron\n",
    "accuracy = perceptron.evaluate_perceptron(X_test, y_test)\n",
    "print(f\"Accuracy: {accuracy * 100:.2f}%\")"
   ],
   "id": "7ccb4f3af41e0ba4",
   "outputs": [
    {
     "name": "stdout",
     "output_type": "stream",
     "text": [
      "Accuracy: 96.67%\n"
     ]
    }
   ],
   "execution_count": 56
  }
 ],
 "metadata": {
  "kernelspec": {
   "display_name": "Python 3",
   "language": "python",
   "name": "python3"
  },
  "language_info": {
   "codemirror_mode": {
    "name": "ipython",
    "version": 2
   },
   "file_extension": ".py",
   "mimetype": "text/x-python",
   "name": "python",
   "nbconvert_exporter": "python",
   "pygments_lexer": "ipython2",
   "version": "2.7.6"
  }
 },
 "nbformat": 4,
 "nbformat_minor": 5
}
